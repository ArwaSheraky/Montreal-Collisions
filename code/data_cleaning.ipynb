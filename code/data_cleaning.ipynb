{
 "cells": [
  {
   "cell_type": "code",
   "execution_count": 1,
   "metadata": {},
   "outputs": [],
   "source": [
    "from pyspark import SparkContext, SparkConf\n",
    "from pyspark.sql import SparkSession\n",
    "from pyspark.sql.types import *\n",
    "from pyspark.sql import functions as F\n",
    "\n",
    "import datetime"
   ]
  },
  {
   "cell_type": "markdown",
   "metadata": {},
   "source": [
    "Starting Spark session"
   ]
  },
  {
   "cell_type": "code",
   "execution_count": 2,
   "metadata": {},
   "outputs": [],
   "source": [
    "#spark = SparkSession.builder.master('spark://master:7077').appName(\"Jupyter\").getOrCreate()\n",
    "\n",
    "spark = SparkSession.builder.master('local[1]').appName(\"Jupyter\").getOrCreate()\n",
    "sc = spark.sparkContext"
   ]
  },
  {
   "cell_type": "code",
   "execution_count": 3,
   "metadata": {},
   "outputs": [
    {
     "name": "stdout",
     "output_type": "stream",
     "text": [
      "+---------------+-------------+----------+--------+--------------+-----------------+--------------+----------+--------------+--------------------+------------------+--------------+------------------+-------------+--------+--------------+--------+--------------+-------------+--------------+--------------+-------------+--------------+------------------+------------------+------------------+-------------+----------------------+--------+-----------------+---------------+-----------------+----+-----------------+--------------------+------------+--------------+--------------------------+---------------------------+-------------------+-----------------------+-------------+--------------+---------------+-------+----------+------------+------+---------------+------------------+---------------+-----------------+------------------+-------------+---------------+----------------+-------------+---------------+----------------+-------------+-----------+-----------+----------+----------+------------+---------------+----------------+---------------+\n",
      "|    NO_SEQ_COLL|JR_SEMN_ACCDN|  DT_ACCDN|CD_MUNCP|NO_CIVIQ_ACCDN|SFX_NO_CIVQ_ACCDN|BORNE_KM_ACCDN| RUE_ACCDN|TP_REPRR_ACCDN|       ACCDN_PRES_DE|NB_METRE_DIST_ACCD|CD_GENRE_ACCDN|CD_SIT_PRTCE_ACCDN|CD_ETAT_SURFC|CD_ECLRM|CD_ENVRN_ACCDN|NO_ROUTE|CD_CATEG_ROUTE|CD_ETAT_CHASS|CD_ASPCT_ROUTE|CD_LOCLN_ACCDN|CD_POSI_ACCDN|CD_CONFG_ROUTE|CD_ZON_TRAVX_ROUTR|CD_PNT_CDRNL_ROUTE|CD_PNT_CDRNL_REPRR|CD_COND_METEO|NB_VEH_IMPLIQUES_ACCDN|NB_MORTS|NB_BLESSES_GRAVES|NB_BLESS_LEGERS|         HR_ACCDN|  AN|NB_VICTIMES_TOTAL|             GRAVITE|     REG_ADM|           MRC|nb_automobile_camion_leger|nb_camionLourd_tractRoutier|nb_outil_equipement|nb_tous_autobus_minibus|nb_bicyclette|nb_cyclomoteur|nb_motocyclette|nb_taxi|nb_urgence|nb_motoneige|nb_VHR|nb_autres_types|nb_veh_non_precise|NB_DECES_PIETON|NB_BLESSES_PIETON|NB_VICTIMES_PIETON|NB_DECES_MOTO|NB_BLESSES_MOTO|NB_VICTIMES_MOTO|NB_DECES_VELO|NB_BLESSES_VELO|NB_VICTIMES_VELO|VITESSE_AUTOR|      LOC_X|      LOC_Y|LOC_COTE_Q|LOC_COTE_P|LOC_DETACHEE|LOC_IMPRECISION|        LOC_LONG|        LOC_LAT|\n",
      "+---------------+-------------+----------+--------+--------------+-----------------+--------------+----------+--------------+--------------------+------------------+--------------+------------------+-------------+--------+--------------+--------+--------------+-------------+--------------+--------------+-------------+--------------+------------------+------------------+------------------+-------------+----------------------+--------+-----------------+---------------+-----------------+----+-----------------+--------------------+------------+--------------+--------------------------+---------------------------+-------------------+-----------------------+-------------+--------------+---------------+-------+----------+------------+------+---------------+------------------+---------------+-----------------+------------------+-------------+---------------+----------------+-------------+---------------+----------------+-------------+-----------+-----------+----------+----------+------------+---------------+----------------+---------------+\n",
      "|SPVM _ 2012 _ 1|           ME|2012/02/01|   66102|          3501|             null|          null|ST CHARLES|             2|                STAT|              null|            31|              null|           16|       1|             1|    null|            21|         null|            11|            33|         null|             4|              null|              null|              null|           11|                     2|       0|                0|              0|      Non précisé|2012|                0|Dommages matériel...|Montréal(06)|Montréal (66 )|                         1|                          0|                  0|                      0|            0|             0|              0|      0|         0|           0|     0|              0|                 1|              0|                0|                 0|            0|              0|               0|            0|              0|               0|         null|276517.3795|5035127.484|         A|         3|           O|              N|-73.861615900043|45.455504503902|\n",
      "|SPVM _ 2012 _ 2|           SA|2012/06/02|   66023|          null|             null|          null|      null|          null|COTE VERTU ET AUT 40|              null|            59|              null|           11|       1|             3|    null|            11|         null|            22|            37|         null|             1|              null|              null|              null|           11|                     1|       0|                0|              0|15:00:00-15:59:00|2012|                0|Dommages matériel...|Montréal(06)|Montréal (66 )|                         1|                          0|                  0|                      0|            0|             0|              0|      0|         0|           0|     0|              0|                 0|              0|                0|                 0|            0|              0|               0|            0|              0|               0|         null|  287913.26|5038666.138|         A|         3|           N|              O|-73.716033473399|45.487715123285|\n",
      "+---------------+-------------+----------+--------+--------------+-----------------+--------------+----------+--------------+--------------------+------------------+--------------+------------------+-------------+--------+--------------+--------+--------------+-------------+--------------+--------------+-------------+--------------+------------------+------------------+------------------+-------------+----------------------+--------+-----------------+---------------+-----------------+----+-----------------+--------------------+------------+--------------+--------------------------+---------------------------+-------------------+-----------------------+-------------+--------------+---------------+-------+----------+------------+------+---------------+------------------+---------------+-----------------+------------------+-------------+---------------+----------------+-------------+---------------+----------------+-------------+-----------+-----------+----------+----------+------------+---------------+----------------+---------------+\n",
      "only showing top 2 rows\n",
      "\n"
     ]
    }
   ],
   "source": [
    "collisions = spark.read.csv('data/accidents.csv', header='true', inferSchema = True)\n",
    "collisions.show(2)"
   ]
  },
  {
   "cell_type": "markdown",
   "metadata": {},
   "source": [
    "### Choosing the columns"
   ]
  },
  {
   "cell_type": "code",
   "execution_count": 4,
   "metadata": {},
   "outputs": [
    {
     "name": "stdout",
     "output_type": "stream",
     "text": [
      "Collisions Info: \n",
      "\n"
     ]
    },
    {
     "data": {
      "text/plain": [
       "['NO_SEQ_COLL',\n",
       " 'JR_SEMN_ACCDN',\n",
       " 'DT_ACCDN',\n",
       " 'CD_MUNCP',\n",
       " 'NO_CIVIQ_ACCDN',\n",
       " 'SFX_NO_CIVQ_ACCDN',\n",
       " 'BORNE_KM_ACCDN',\n",
       " 'RUE_ACCDN',\n",
       " 'TP_REPRR_ACCDN',\n",
       " 'ACCDN_PRES_DE',\n",
       " 'NB_METRE_DIST_ACCD',\n",
       " 'CD_GENRE_ACCDN',\n",
       " 'CD_SIT_PRTCE_ACCDN',\n",
       " 'CD_ETAT_SURFC',\n",
       " 'CD_ECLRM',\n",
       " 'CD_ENVRN_ACCDN',\n",
       " 'NO_ROUTE',\n",
       " 'CD_CATEG_ROUTE',\n",
       " 'CD_ETAT_CHASS',\n",
       " 'CD_ASPCT_ROUTE',\n",
       " 'CD_LOCLN_ACCDN',\n",
       " 'CD_POSI_ACCDN',\n",
       " 'CD_CONFG_ROUTE',\n",
       " 'CD_ZON_TRAVX_ROUTR',\n",
       " 'CD_PNT_CDRNL_ROUTE',\n",
       " 'CD_PNT_CDRNL_REPRR',\n",
       " 'CD_COND_METEO',\n",
       " 'NB_VEH_IMPLIQUES_ACCDN',\n",
       " 'NB_MORTS',\n",
       " 'NB_BLESSES_GRAVES',\n",
       " 'NB_BLESS_LEGERS',\n",
       " 'HR_ACCDN',\n",
       " 'AN',\n",
       " 'NB_VICTIMES_TOTAL',\n",
       " 'GRAVITE',\n",
       " 'REG_ADM',\n",
       " 'MRC',\n",
       " 'nb_automobile_camion_leger',\n",
       " 'nb_camionLourd_tractRoutier',\n",
       " 'nb_outil_equipement',\n",
       " 'nb_tous_autobus_minibus',\n",
       " 'nb_bicyclette',\n",
       " 'nb_cyclomoteur',\n",
       " 'nb_motocyclette',\n",
       " 'nb_taxi',\n",
       " 'nb_urgence',\n",
       " 'nb_motoneige',\n",
       " 'nb_VHR',\n",
       " 'nb_autres_types',\n",
       " 'nb_veh_non_precise',\n",
       " 'NB_DECES_PIETON',\n",
       " 'NB_BLESSES_PIETON',\n",
       " 'NB_VICTIMES_PIETON',\n",
       " 'NB_DECES_MOTO',\n",
       " 'NB_BLESSES_MOTO',\n",
       " 'NB_VICTIMES_MOTO',\n",
       " 'NB_DECES_VELO',\n",
       " 'NB_BLESSES_VELO',\n",
       " 'NB_VICTIMES_VELO',\n",
       " 'VITESSE_AUTOR',\n",
       " 'LOC_X',\n",
       " 'LOC_Y',\n",
       " 'LOC_COTE_Q',\n",
       " 'LOC_COTE_P',\n",
       " 'LOC_DETACHEE',\n",
       " 'LOC_IMPRECISION',\n",
       " 'LOC_LONG',\n",
       " 'LOC_LAT']"
      ]
     },
     "execution_count": 4,
     "metadata": {},
     "output_type": "execute_result"
    }
   ],
   "source": [
    "print('Collisions Info: \\n')\n",
    "collisions.columns"
   ]
  },
  {
   "cell_type": "code",
   "execution_count": 5,
   "metadata": {},
   "outputs": [],
   "source": [
    "df = collisions.select('NO_SEQ_COLL',  'DT_ACCDN', 'JR_SEMN_ACCDN',\\\n",
    "                       'REG_ADM', 'CD_MUNCP',\\\n",
    "#                        'LOC_LONG', 'LOC_LAT',\\\n",
    "#                        'NO_CIVIQ_ACCDN', 'TP_REPRR_ACCDN',\\\n",
    "                       'RUE_ACCDN',\\\n",
    "                       'CD_GENRE_ACCDN', 'CD_ETAT_SURFC', 'CD_ECLRM',\\\n",
    "                       'CD_ASPCT_ROUTE', \\\n",
    "                       'CD_CONFG_ROUTE', \\\n",
    "                       'CD_COND_METEO',\\\n",
    "                       'GRAVITE', \\\n",
    "#                        'VITESSE_AUTOR',\\\n",
    "                       'NB_VEH_IMPLIQUES_ACCDN', \\\n",
    "                       'NB_VICTIMES_TOTAL', 'NB_MORTS', \\\n",
    "                       'NB_BLESSES_GRAVES', 'NB_BLESS_LEGERS', \\\n",
    "                       'NB_DECES_PIETON', 'NB_BLESSES_PIETON', 'NB_VICTIMES_PIETON',\\\n",
    "                       'NB_DECES_MOTO', 'NB_BLESSES_MOTO', 'NB_VICTIMES_MOTO', \\\n",
    "                       'NB_DECES_VELO', 'NB_BLESSES_VELO', 'NB_VICTIMES_VELO',\\\n",
    "                       'nb_automobile_camion_leger', 'nb_camionLourd_tractRoutier',\\\n",
    "                       'nb_outil_equipement', 'nb_tous_autobus_minibus', 'nb_bicyclette',\\\n",
    "                       'nb_cyclomoteur', 'nb_motocyclette', 'nb_taxi', 'nb_urgence',\\\n",
    "                       'nb_motoneige', 'nb_VHR', 'nb_autres_types', 'nb_veh_non_precise')"
   ]
  },
  {
   "cell_type": "code",
   "execution_count": 6,
   "metadata": {},
   "outputs": [
    {
     "data": {
      "text/plain": [
       "[Row(NO_SEQ_COLL='SPVM _ 2012 _ 1', DT_ACCDN='2012/02/01', JR_SEMN_ACCDN='ME', REG_ADM='Montréal(06)', CD_MUNCP=66102, RUE_ACCDN='ST CHARLES', CD_GENRE_ACCDN=31, CD_ETAT_SURFC=16, CD_ECLRM=1, CD_ASPCT_ROUTE=11, CD_CONFG_ROUTE=4, CD_COND_METEO=11, GRAVITE='Dommages matériels inférieurs au seuil de rapportage', NB_VEH_IMPLIQUES_ACCDN=2, NB_VICTIMES_TOTAL=0, NB_MORTS=0, NB_BLESSES_GRAVES=0, NB_BLESS_LEGERS=0, NB_DECES_PIETON=0, NB_BLESSES_PIETON=0, NB_VICTIMES_PIETON=0, NB_DECES_MOTO=0, NB_BLESSES_MOTO=0, NB_VICTIMES_MOTO=0, NB_DECES_VELO=0, NB_BLESSES_VELO=0, NB_VICTIMES_VELO=0, nb_automobile_camion_leger=1, nb_camionLourd_tractRoutier=0, nb_outil_equipement=0, nb_tous_autobus_minibus=0, nb_bicyclette=0, nb_cyclomoteur=0, nb_motocyclette=0, nb_taxi=0, nb_urgence=0, nb_motoneige=0, nb_VHR=0, nb_autres_types=0, nb_veh_non_precise=1)]"
      ]
     },
     "execution_count": 6,
     "metadata": {},
     "output_type": "execute_result"
    }
   ],
   "source": [
    "df.take(1)"
   ]
  },
  {
   "cell_type": "code",
   "execution_count": 7,
   "metadata": {},
   "outputs": [
    {
     "data": {
      "text/plain": [
       "171271"
      ]
     },
     "execution_count": 7,
     "metadata": {},
     "output_type": "execute_result"
    }
   ],
   "source": [
    "df.distinct().count()"
   ]
  },
  {
   "cell_type": "markdown",
   "metadata": {},
   "source": [
    "### Rename the columns"
   ]
  },
  {
   "cell_type": "code",
   "execution_count": 8,
   "metadata": {},
   "outputs": [],
   "source": [
    "df = df.withColumnRenamed('NO_SEQ_COLL', 'ID')\n",
    "df = df.withColumnRenamed('DT_ACCDN', 'DATE')\n",
    "df = df.withColumnRenamed('JR_SEMN_ACCDN', 'WEEK_DAY')\n",
    "df = df.withColumnRenamed('REG_ADM', 'REG')\n",
    "df = df.withColumnRenamed('CD_MUNCP', 'MUNCP')\n",
    "df = df.withColumnRenamed('RUE_ACCDN', 'STREET')\n",
    "df = df.withColumnRenamed('CD_GENRE_ACCDN', 'TYPE_ACCDN')\n",
    "df = df.withColumnRenamed('CD_ETAT_SURFC', 'SURFACE')\n",
    "df = df.withColumnRenamed('CD_ECLRM', 'LIGHT')\n",
    "df = df.withColumnRenamed('CD_ASPCT_ROUTE', 'STR_ASPCT')\n",
    "df = df.withColumnRenamed('CD_CONFG_ROUTE', 'STR_CONFIG')\n",
    "df = df.withColumnRenamed('CD_COND_METEO', 'METEO')\n",
    "# df = df.withColumnRenamed('VITESSE_AUTOR', 'SPEED')"
   ]
  },
  {
   "cell_type": "code",
   "execution_count": 9,
   "metadata": {},
   "outputs": [
    {
     "data": {
      "text/plain": [
       "['ID',\n",
       " 'DATE',\n",
       " 'WEEK_DAY',\n",
       " 'REG',\n",
       " 'MUNCP',\n",
       " 'STREET',\n",
       " 'TYPE_ACCDN',\n",
       " 'SURFACE',\n",
       " 'LIGHT',\n",
       " 'STR_ASPCT',\n",
       " 'STR_CONFIG',\n",
       " 'METEO',\n",
       " 'GRAVITE',\n",
       " 'NB_VEH_IMPLIQUES_ACCDN',\n",
       " 'NB_VICTIMES_TOTAL',\n",
       " 'NB_MORTS',\n",
       " 'NB_BLESSES_GRAVES',\n",
       " 'NB_BLESS_LEGERS',\n",
       " 'NB_DECES_PIETON',\n",
       " 'NB_BLESSES_PIETON',\n",
       " 'NB_VICTIMES_PIETON',\n",
       " 'NB_DECES_MOTO',\n",
       " 'NB_BLESSES_MOTO',\n",
       " 'NB_VICTIMES_MOTO',\n",
       " 'NB_DECES_VELO',\n",
       " 'NB_BLESSES_VELO',\n",
       " 'NB_VICTIMES_VELO',\n",
       " 'nb_automobile_camion_leger',\n",
       " 'nb_camionLourd_tractRoutier',\n",
       " 'nb_outil_equipement',\n",
       " 'nb_tous_autobus_minibus',\n",
       " 'nb_bicyclette',\n",
       " 'nb_cyclomoteur',\n",
       " 'nb_motocyclette',\n",
       " 'nb_taxi',\n",
       " 'nb_urgence',\n",
       " 'nb_motoneige',\n",
       " 'nb_VHR',\n",
       " 'nb_autres_types',\n",
       " 'nb_veh_non_precise']"
      ]
     },
     "execution_count": 9,
     "metadata": {},
     "output_type": "execute_result"
    }
   ],
   "source": [
    "df.columns"
   ]
  },
  {
   "cell_type": "markdown",
   "metadata": {},
   "source": [
    "### Merging with Municipalities dataset \n",
    "\n",
    "Dataset is taken from [Official site of Municipality of Quebec](http://www.stat.gouv.qc.ca/statistiques/divisions-territoriales/abonnement/municipalites_officielles_fr.htm)"
   ]
  },
  {
   "cell_type": "code",
   "execution_count": 10,
   "metadata": {},
   "outputs": [
    {
     "name": "stdout",
     "output_type": "stream",
     "text": [
      "+----+--------------------+----------------+--------------------+\n",
      "|Code| Nom de municipalité|Statut municipal|Date d'incorporation|\n",
      "+----+--------------------+----------------+--------------------+\n",
      "|1023|Les Îles-de-la-Ma...|  M-Municipalité| 2002-01-01 00:00:00|\n",
      "|1042|          Grosse-Île|  M-Municipalité| 2006-01-01 00:00:00|\n",
      "|2005|               Percé|         V-Ville| 1971-01-01 00:00:00|\n",
      "|2010|Sainte-Thérèse-de...|  M-Municipalité| 1930-09-06 00:00:00|\n",
      "|2015|      Grande-Rivière|         V-Ville| 1974-09-21 00:00:00|\n",
      "+----+--------------------+----------------+--------------------+\n",
      "only showing top 5 rows\n",
      "\n"
     ]
    }
   ],
   "source": [
    "municipalities = spark.read.csv('data/municipalities-1.csv', header='true', inferSchema = True)\n",
    "municipalities.show(5)"
   ]
  },
  {
   "cell_type": "code",
   "execution_count": 11,
   "metadata": {},
   "outputs": [
    {
     "data": {
      "text/plain": [
       "[Row(ID='SPVM _ 2012 _ 1', DATE='2012/02/01', WEEK_DAY='ME', REG='Montréal(06)', MUNCP=66102, STREET='ST CHARLES', TYPE_ACCDN=31, SURFACE=16, LIGHT=1, STR_ASPCT=11, STR_CONFIG=4, METEO=11, GRAVITE='Dommages matériels inférieurs au seuil de rapportage', NB_VEH_IMPLIQUES_ACCDN=2, NB_VICTIMES_TOTAL=0, NB_MORTS=0, NB_BLESSES_GRAVES=0, NB_BLESS_LEGERS=0, NB_DECES_PIETON=0, NB_BLESSES_PIETON=0, NB_VICTIMES_PIETON=0, NB_DECES_MOTO=0, NB_BLESSES_MOTO=0, NB_VICTIMES_MOTO=0, NB_DECES_VELO=0, NB_BLESSES_VELO=0, NB_VICTIMES_VELO=0, nb_automobile_camion_leger=1, nb_camionLourd_tractRoutier=0, nb_outil_equipement=0, nb_tous_autobus_minibus=0, nb_bicyclette=0, nb_cyclomoteur=0, nb_motocyclette=0, nb_taxi=0, nb_urgence=0, nb_motoneige=0, nb_VHR=0, nb_autres_types=0, nb_veh_non_precise=1, Code=66102, Nom de municipalité='Kirkland', Statut municipal='V-Ville', Date d'incorporation=datetime.datetime(2006, 1, 1, 0, 0))]"
      ]
     },
     "execution_count": 11,
     "metadata": {},
     "output_type": "execute_result"
    }
   ],
   "source": [
    "df = df.join(municipalities, df.MUNCP == municipalities.Code)\n",
    "df.take(1)"
   ]
  },
  {
   "cell_type": "code",
   "execution_count": 12,
   "metadata": {},
   "outputs": [
    {
     "data": {
      "text/plain": [
       "171266"
      ]
     },
     "execution_count": 12,
     "metadata": {},
     "output_type": "execute_result"
    }
   ],
   "source": [
    "df.count()"
   ]
  },
  {
   "cell_type": "code",
   "execution_count": 13,
   "metadata": {},
   "outputs": [
    {
     "data": {
      "text/plain": [
       "[Row(ID='SPVM _ 2012 _ 1', DATE='2012/02/01', WEEK_DAY='ME', REG='Montréal(06)', MUNCP='Kirkland', STREET='ST CHARLES', TYPE_ACCDN=31, SURFACE=16, LIGHT=1, STR_ASPCT=11, STR_CONFIG=4, METEO=11, GRAVITE='Dommages matériels inférieurs au seuil de rapportage', NB_VEH_IMPLIQUES_ACCDN=2, NB_VICTIMES_TOTAL=0, NB_MORTS=0, NB_BLESSES_GRAVES=0, NB_BLESS_LEGERS=0, NB_DECES_PIETON=0, NB_BLESSES_PIETON=0, NB_VICTIMES_PIETON=0, NB_DECES_MOTO=0, NB_BLESSES_MOTO=0, NB_VICTIMES_MOTO=0, NB_DECES_VELO=0, NB_BLESSES_VELO=0, NB_VICTIMES_VELO=0, nb_automobile_camion_leger=1, nb_camionLourd_tractRoutier=0, nb_outil_equipement=0, nb_tous_autobus_minibus=0, nb_bicyclette=0, nb_cyclomoteur=0, nb_motocyclette=0, nb_taxi=0, nb_urgence=0, nb_motoneige=0, nb_VHR=0, nb_autres_types=0, nb_veh_non_precise=1)]"
      ]
     },
     "execution_count": 13,
     "metadata": {},
     "output_type": "execute_result"
    }
   ],
   "source": [
    "df = df.withColumn('MUNCP', df[\"Nom de municipalité\"])\n",
    "df = df.drop(\"Code\", \"Nom de municipalité\", \"Statut municipal\", \"Date d'incorporation\")\n",
    "df.take(1)"
   ]
  },
  {
   "cell_type": "code",
   "execution_count": 14,
   "metadata": {},
   "outputs": [
    {
     "data": {
      "text/plain": [
       "[Row(ID='SPVM _ 2012 _ 1', DATE='2012/02/01', WEEK_DAY='ME', REG='Montréal(06)', MUNCP='Kirkland', STREET='ST CHARLES', TYPE_ACCDN=31, SURFACE=16, LIGHT=1, STR_ASPCT=11, STR_CONFIG=4, METEO=11, GRAVITE='Dommages matériels inférieurs au seuil de rapportage', NB_VEH_IMPLIQUES_ACCDN=2, NB_VICTIMES_TOTAL=0, NB_MORTS=0, NB_BLESSES_GRAVES=0, NB_BLESS_LEGERS=0, NB_DECES_PIETON=0, NB_BLESSES_PIETON=0, NB_VICTIMES_PIETON=0, NB_DECES_MOTO=0, NB_BLESSES_MOTO=0, NB_VICTIMES_MOTO=0, NB_DECES_VELO=0, NB_BLESSES_VELO=0, NB_VICTIMES_VELO=0, nb_automobile_camion_leger=1, nb_camionLourd_tractRoutier=0, nb_outil_equipement=0, nb_tous_autobus_minibus=0, nb_bicyclette=0, nb_cyclomoteur=0, nb_motocyclette=0, nb_taxi=0, nb_urgence=0, nb_motoneige=0, nb_VHR=0, nb_autres_types=0, nb_veh_non_precise=1)]"
      ]
     },
     "execution_count": 14,
     "metadata": {},
     "output_type": "execute_result"
    }
   ],
   "source": [
    "df.take(1)"
   ]
  },
  {
   "cell_type": "code",
   "execution_count": 15,
   "metadata": {},
   "outputs": [
    {
     "name": "stdout",
     "output_type": "stream",
     "text": [
      "root\n",
      " |-- ID: string (nullable = true)\n",
      " |-- DATE: string (nullable = true)\n",
      " |-- WEEK_DAY: string (nullable = true)\n",
      " |-- REG: string (nullable = true)\n",
      " |-- MUNCP: string (nullable = true)\n",
      " |-- STREET: string (nullable = true)\n",
      " |-- TYPE_ACCDN: integer (nullable = true)\n",
      " |-- SURFACE: integer (nullable = true)\n",
      " |-- LIGHT: integer (nullable = true)\n",
      " |-- STR_ASPCT: integer (nullable = true)\n",
      " |-- STR_CONFIG: integer (nullable = true)\n",
      " |-- METEO: integer (nullable = true)\n",
      " |-- GRAVITE: string (nullable = true)\n",
      " |-- NB_VEH_IMPLIQUES_ACCDN: integer (nullable = true)\n",
      " |-- NB_VICTIMES_TOTAL: integer (nullable = true)\n",
      " |-- NB_MORTS: integer (nullable = true)\n",
      " |-- NB_BLESSES_GRAVES: integer (nullable = true)\n",
      " |-- NB_BLESS_LEGERS: integer (nullable = true)\n",
      " |-- NB_DECES_PIETON: integer (nullable = true)\n",
      " |-- NB_BLESSES_PIETON: integer (nullable = true)\n",
      " |-- NB_VICTIMES_PIETON: integer (nullable = true)\n",
      " |-- NB_DECES_MOTO: integer (nullable = true)\n",
      " |-- NB_BLESSES_MOTO: integer (nullable = true)\n",
      " |-- NB_VICTIMES_MOTO: integer (nullable = true)\n",
      " |-- NB_DECES_VELO: integer (nullable = true)\n",
      " |-- NB_BLESSES_VELO: integer (nullable = true)\n",
      " |-- NB_VICTIMES_VELO: integer (nullable = true)\n",
      " |-- nb_automobile_camion_leger: integer (nullable = true)\n",
      " |-- nb_camionLourd_tractRoutier: integer (nullable = true)\n",
      " |-- nb_outil_equipement: integer (nullable = true)\n",
      " |-- nb_tous_autobus_minibus: integer (nullable = true)\n",
      " |-- nb_bicyclette: integer (nullable = true)\n",
      " |-- nb_cyclomoteur: integer (nullable = true)\n",
      " |-- nb_motocyclette: integer (nullable = true)\n",
      " |-- nb_taxi: integer (nullable = true)\n",
      " |-- nb_urgence: integer (nullable = true)\n",
      " |-- nb_motoneige: integer (nullable = true)\n",
      " |-- nb_VHR: integer (nullable = true)\n",
      " |-- nb_autres_types: integer (nullable = true)\n",
      " |-- nb_veh_non_precise: integer (nullable = true)\n",
      "\n"
     ]
    }
   ],
   "source": [
    "df.printSchema()"
   ]
  },
  {
   "cell_type": "code",
   "execution_count": 16,
   "metadata": {},
   "outputs": [
    {
     "name": "stdout",
     "output_type": "stream",
     "text": [
      "+--------------------+--------------------+------+\n",
      "|                 REG|               MUNCP| count|\n",
      "+--------------------+--------------------+------+\n",
      "|Abitibi-Témiscami...|            Val-d'Or|     1|\n",
      "|Abitibi-Témiscami...|         Ville-Marie|     3|\n",
      "|Abitibi-Témiscami...|                Amos|     1|\n",
      "|Bas-Saint-Laurent...|       La Rédemption|     1|\n",
      "|Capitale-National...|  L'Isle-aux-Coudres|     1|\n",
      "|Capitale-National...|              Québec|     4|\n",
      "|Capitale-National...|     Baie-Saint-Paul|     1|\n",
      "|Centre-du-Québec(17)|     Saint-Wenceslas|     2|\n",
      "|Centre-du-Québec(17)|       Drummondville|     1|\n",
      "|Centre-du-Québec(17)|        Plessisville|     3|\n",
      "|Centre-du-Québec(17)|             Nicolet|     1|\n",
      "|Chaudière-Appalac...|           Val-Alain|     1|\n",
      "|Chaudière-Appalac...|               Lévis|     1|\n",
      "|Chaudière-Appalac...|      Thetford Mines|     1|\n",
      "|          Estrie(05)|           Stornoway|     1|\n",
      "|          Estrie(05)|              Weedon|     1|\n",
      "|          Estrie(05)|          Sherbrooke|     5|\n",
      "|          Estrie(05)|            Dixville|     1|\n",
      "|Gaspésie/-Îles-de...|           Paspébiac|     1|\n",
      "|Gaspésie/-Îles-de...|Les Îles-de-la-Ma...|     1|\n",
      "|      Lanaudière(14)|       Saint-Sulpice|     3|\n",
      "|      Lanaudière(14)|        Saint-Alexis|    11|\n",
      "|      Lanaudière(14)|          Repentigny|     3|\n",
      "|      Lanaudière(14)|        Saint-Pierre|     1|\n",
      "|      Lanaudière(14)|        L'Assomption|     1|\n",
      "|      Lanaudière(14)|          Terrebonne|     1|\n",
      "|      Lanaudière(14)|         L'Épiphanie|     2|\n",
      "|      Lanaudière(14)|          Saint-Paul|     1|\n",
      "|     Laurentides(15)|        Saint-Jérôme|     1|\n",
      "|     Laurentides(15)|             Mirabel|     1|\n",
      "|     Laurentides(15)|             Labelle|     1|\n",
      "|     Laurentides(15)|       Rivière-Rouge|     1|\n",
      "|           Laval(13)|               Laval|     8|\n",
      "|        Mauricie(04)|          Shawinigan|     1|\n",
      "|        Mauricie(04)|      Trois-Rivières|     3|\n",
      "|        Montréal(06)|              Dorval|  2370|\n",
      "|        Montréal(06)|            Montréal|155084|\n",
      "|        Montréal(06)|          Senneville|    33|\n",
      "|        Montréal(06)|      Côte-Saint-Luc|  1328|\n",
      "|        Montréal(06)|        Montréal-Est|   479|\n",
      "|        Montréal(06)| Dollard-Des Ormeaux|  2362|\n",
      "|        Montréal(06)|        L'Île-Dorval|     6|\n",
      "|        Montréal(06)|         Baie-D'Urfé|   120|\n",
      "|        Montréal(06)|        Beaconsfield|   585|\n",
      "|        Montréal(06)|       Pointe-Claire|  3561|\n",
      "|        Montréal(06)|            Kirkland|  1198|\n",
      "|        Montréal(06)|           Westmount|  1441|\n",
      "|        Montréal(06)|          Mont-Royal|  1704|\n",
      "|        Montréal(06)|      Montréal-Ouest|   179|\n",
      "|        Montréal(06)|Sainte-Anne-de-Be...|   427|\n",
      "|        Montréal(06)|           Hampstead|   295|\n",
      "|      Montérégie(16)|              Delson|     1|\n",
      "|      Montérégie(16)|         Sorel-Tracy|     1|\n",
      "|      Montérégie(16)|        Sainte-Julie|     2|\n",
      "|      Montérégie(16)|       Saint-Césaire|     1|\n",
      "|      Montérégie(16)|         Beauharnois|     1|\n",
      "|      Montérégie(16)|             Lacolle|     1|\n",
      "|      Montérégie(16)|         Saint-Simon|     1|\n",
      "|      Montérégie(16)|    Vaudreuil-Dorion|     1|\n",
      "|      Montérégie(16)|        Saint-Michel|     1|\n",
      "|      Montérégie(16)|            Varennes|     1|\n",
      "|      Montérégie(16)|Saint-Bruno-de-Mo...|     1|\n",
      "|      Montérégie(16)|       Saint-Zotique|     2|\n",
      "|      Montérégie(16)|Salaberry-de-Vall...|     1|\n",
      "|      Montérégie(16)|            Brossard|     1|\n",
      "|       Outaouais(07)|Mansfield-et-Pont...|     1|\n",
      "|       Outaouais(07)|            Gatineau|     3|\n",
      "|       Outaouais(07)|       Papineauville|     1|\n",
      "|       Outaouais(07)|             Pontiac|     1|\n",
      "|Saguenay/-Lac-Sai...|   L'Anse-Saint-Jean|     1|\n",
      "+--------------------+--------------------+------+\n",
      "\n"
     ]
    }
   ],
   "source": [
    "df.select('MUNCP', 'REG').groupby('REG', 'MUNCP').count().sort('REG', accending=True).show(300)"
   ]
  },
  {
   "cell_type": "markdown",
   "metadata": {},
   "source": [
    "We can see that it makes sense to work with Greater Montreal area only"
   ]
  },
  {
   "cell_type": "code",
   "execution_count": 17,
   "metadata": {},
   "outputs": [
    {
     "data": {
      "text/plain": [
       "171172"
      ]
     },
     "execution_count": 17,
     "metadata": {},
     "output_type": "execute_result"
    }
   ],
   "source": [
    "df = df.filter(df['REG'] == \"Montréal(06)\")\n",
    "df.count()"
   ]
  },
  {
   "cell_type": "code",
   "execution_count": 18,
   "metadata": {},
   "outputs": [
    {
     "name": "stdout",
     "output_type": "stream",
     "text": [
      "+------------+--------------------+------+\n",
      "|         REG|               MUNCP| count|\n",
      "+------------+--------------------+------+\n",
      "|Montréal(06)|              Dorval|  2370|\n",
      "|Montréal(06)|          Mont-Royal|  1704|\n",
      "|Montréal(06)|        L'Île-Dorval|     6|\n",
      "|Montréal(06)|            Montréal|155084|\n",
      "|Montréal(06)|           Hampstead|   295|\n",
      "|Montréal(06)| Dollard-Des Ormeaux|  2362|\n",
      "|Montréal(06)|       Pointe-Claire|  3561|\n",
      "|Montréal(06)|          Senneville|    33|\n",
      "|Montréal(06)|           Westmount|  1441|\n",
      "|Montréal(06)|      Côte-Saint-Luc|  1328|\n",
      "|Montréal(06)|        Montréal-Est|   479|\n",
      "|Montréal(06)|         Baie-D'Urfé|   120|\n",
      "|Montréal(06)|        Beaconsfield|   585|\n",
      "|Montréal(06)|      Montréal-Ouest|   179|\n",
      "|Montréal(06)|Sainte-Anne-de-Be...|   427|\n",
      "|Montréal(06)|            Kirkland|  1198|\n",
      "+------------+--------------------+------+\n",
      "\n"
     ]
    }
   ],
   "source": [
    "df.select('MUNCP', 'REG').groupby('REG', 'MUNCP').count().sort('REG', accending=True).show(300)"
   ]
  },
  {
   "cell_type": "markdown",
   "metadata": {},
   "source": [
    "We can also see that most of the time instead of entering the municipal codes, a general code of Montreal (66023) was used. We will probably gather them all in one group later."
   ]
  },
  {
   "cell_type": "markdown",
   "metadata": {},
   "source": [
    "### Dealing with NULLs"
   ]
  },
  {
   "cell_type": "code",
   "execution_count": 19,
   "metadata": {},
   "outputs": [
    {
     "data": {
      "text/plain": [
       "171172"
      ]
     },
     "execution_count": 19,
     "metadata": {},
     "output_type": "execute_result"
    }
   ],
   "source": [
    "df.count()"
   ]
  },
  {
   "cell_type": "code",
   "execution_count": 20,
   "metadata": {},
   "outputs": [
    {
     "data": {
      "text/plain": [
       "128647"
      ]
     },
     "execution_count": 20,
     "metadata": {},
     "output_type": "execute_result"
    }
   ],
   "source": [
    "df.na.drop().count()"
   ]
  },
  {
   "cell_type": "markdown",
   "metadata": {},
   "source": [
    "It's not enough to just drop rows which include nulls. Let's look closer into each column and see what can we do with nulls"
   ]
  },
  {
   "cell_type": "markdown",
   "metadata": {},
   "source": [
    "Checking nulls for each column:"
   ]
  },
  {
   "cell_type": "code",
   "execution_count": 21,
   "metadata": {},
   "outputs": [
    {
     "name": "stdout",
     "output_type": "stream",
     "text": [
      "ID :  0\n",
      "DATE :  0\n",
      "WEEK_DAY :  0\n",
      "REG :  0\n",
      "MUNCP :  0\n",
      "STREET :  10878\n",
      "TYPE_ACCDN :  9038\n",
      "SURFACE :  11265\n",
      "LIGHT :  11398\n",
      "STR_ASPCT :  8589\n",
      "STR_CONFIG :  18720\n",
      "METEO :  11915\n",
      "GRAVITE :  0\n",
      "NB_VEH_IMPLIQUES_ACCDN :  0\n",
      "NB_VICTIMES_TOTAL :  0\n",
      "NB_MORTS :  0\n",
      "NB_BLESSES_GRAVES :  0\n",
      "NB_BLESS_LEGERS :  0\n",
      "NB_DECES_PIETON :  0\n",
      "NB_BLESSES_PIETON :  0\n",
      "NB_VICTIMES_PIETON :  0\n",
      "NB_DECES_MOTO :  0\n",
      "NB_BLESSES_MOTO :  0\n",
      "NB_VICTIMES_MOTO :  0\n",
      "NB_DECES_VELO :  0\n",
      "NB_BLESSES_VELO :  0\n",
      "NB_VICTIMES_VELO :  0\n",
      "nb_automobile_camion_leger :  0\n",
      "nb_camionLourd_tractRoutier :  0\n",
      "nb_outil_equipement :  0\n",
      "nb_tous_autobus_minibus :  0\n",
      "nb_bicyclette :  0\n",
      "nb_cyclomoteur :  0\n",
      "nb_motocyclette :  0\n",
      "nb_taxi :  0\n",
      "nb_urgence :  0\n",
      "nb_motoneige :  0\n",
      "nb_VHR :  0\n",
      "nb_autres_types :  0\n",
      "nb_veh_non_precise :  0\n"
     ]
    }
   ],
   "source": [
    "for i in df.columns:\n",
    "    print(i, ': ', df.filter(F.isnull(i)).count())"
   ]
  },
  {
   "cell_type": "markdown",
   "metadata": {},
   "source": [
    "A _STREET_ column contains 10895 nulls. We will remove them from the dataset.\n",
    "\n",
    "As for the other columns, we can replace nulls with 0 and still use then in our analysis as these columns are informative and the numbers we have there are pointing at the specific state of weather or road condition. \n",
    "\n",
    "__TAKE A DECISION FOR STREETS__"
   ]
  },
  {
   "cell_type": "markdown",
   "metadata": {},
   "source": [
    "Let's for now drop all the nulls"
   ]
  },
  {
   "cell_type": "code",
   "execution_count": 22,
   "metadata": {},
   "outputs": [
    {
     "data": {
      "text/plain": [
       "128647"
      ]
     },
     "execution_count": 22,
     "metadata": {},
     "output_type": "execute_result"
    }
   ],
   "source": [
    "df = df.na.drop()\n",
    "df.count()"
   ]
  },
  {
   "cell_type": "code",
   "execution_count": 23,
   "metadata": {},
   "outputs": [
    {
     "name": "stdout",
     "output_type": "stream",
     "text": [
      "+------------+--------------------+------+\n",
      "|         REG|               MUNCP| count|\n",
      "+------------+--------------------+------+\n",
      "|Montréal(06)|              Dorval|  1687|\n",
      "|Montréal(06)|          Mont-Royal|  1340|\n",
      "|Montréal(06)|        L'Île-Dorval|     6|\n",
      "|Montréal(06)|            Montréal|117195|\n",
      "|Montréal(06)|           Hampstead|   248|\n",
      "|Montréal(06)| Dollard-Des Ormeaux|  1605|\n",
      "|Montréal(06)|       Pointe-Claire|  2355|\n",
      "|Montréal(06)|          Senneville|    24|\n",
      "|Montréal(06)|           Westmount|  1116|\n",
      "|Montréal(06)|      Côte-Saint-Luc|  1013|\n",
      "|Montréal(06)|        Montréal-Est|   362|\n",
      "|Montréal(06)|         Baie-D'Urfé|    86|\n",
      "|Montréal(06)|        Beaconsfield|   401|\n",
      "|Montréal(06)|      Montréal-Ouest|   140|\n",
      "|Montréal(06)|Sainte-Anne-de-Be...|   315|\n",
      "|Montréal(06)|            Kirkland|   754|\n",
      "+------------+--------------------+------+\n",
      "\n"
     ]
    }
   ],
   "source": [
    "df.select('MUNCP', 'REG').groupby('REG', 'MUNCP').count().sort('REG', accending=True).show(300)"
   ]
  },
  {
   "cell_type": "markdown",
   "metadata": {},
   "source": [
    "### Arranging the types"
   ]
  },
  {
   "cell_type": "code",
   "execution_count": 24,
   "metadata": {},
   "outputs": [
    {
     "name": "stdout",
     "output_type": "stream",
     "text": [
      "root\n",
      " |-- ID: string (nullable = true)\n",
      " |-- DATE: string (nullable = true)\n",
      " |-- WEEK_DAY: string (nullable = true)\n",
      " |-- REG: string (nullable = true)\n",
      " |-- MUNCP: string (nullable = true)\n",
      " |-- STREET: string (nullable = true)\n",
      " |-- TYPE_ACCDN: integer (nullable = true)\n",
      " |-- SURFACE: integer (nullable = true)\n",
      " |-- LIGHT: integer (nullable = true)\n",
      " |-- STR_ASPCT: integer (nullable = true)\n",
      " |-- STR_CONFIG: integer (nullable = true)\n",
      " |-- METEO: integer (nullable = true)\n",
      " |-- GRAVITE: string (nullable = true)\n",
      " |-- NB_VEH_IMPLIQUES_ACCDN: integer (nullable = true)\n",
      " |-- NB_VICTIMES_TOTAL: integer (nullable = true)\n",
      " |-- NB_MORTS: integer (nullable = true)\n",
      " |-- NB_BLESSES_GRAVES: integer (nullable = true)\n",
      " |-- NB_BLESS_LEGERS: integer (nullable = true)\n",
      " |-- NB_DECES_PIETON: integer (nullable = true)\n",
      " |-- NB_BLESSES_PIETON: integer (nullable = true)\n",
      " |-- NB_VICTIMES_PIETON: integer (nullable = true)\n",
      " |-- NB_DECES_MOTO: integer (nullable = true)\n",
      " |-- NB_BLESSES_MOTO: integer (nullable = true)\n",
      " |-- NB_VICTIMES_MOTO: integer (nullable = true)\n",
      " |-- NB_DECES_VELO: integer (nullable = true)\n",
      " |-- NB_BLESSES_VELO: integer (nullable = true)\n",
      " |-- NB_VICTIMES_VELO: integer (nullable = true)\n",
      " |-- nb_automobile_camion_leger: integer (nullable = true)\n",
      " |-- nb_camionLourd_tractRoutier: integer (nullable = true)\n",
      " |-- nb_outil_equipement: integer (nullable = true)\n",
      " |-- nb_tous_autobus_minibus: integer (nullable = true)\n",
      " |-- nb_bicyclette: integer (nullable = true)\n",
      " |-- nb_cyclomoteur: integer (nullable = true)\n",
      " |-- nb_motocyclette: integer (nullable = true)\n",
      " |-- nb_taxi: integer (nullable = true)\n",
      " |-- nb_urgence: integer (nullable = true)\n",
      " |-- nb_motoneige: integer (nullable = true)\n",
      " |-- nb_VHR: integer (nullable = true)\n",
      " |-- nb_autres_types: integer (nullable = true)\n",
      " |-- nb_veh_non_precise: integer (nullable = true)\n",
      "\n"
     ]
    }
   ],
   "source": [
    "df.printSchema()"
   ]
  },
  {
   "cell_type": "markdown",
   "metadata": {},
   "source": [
    "Checking the dates"
   ]
  },
  {
   "cell_type": "code",
   "execution_count": 25,
   "metadata": {
    "scrolled": false
   },
   "outputs": [
    {
     "name": "stdout",
     "output_type": "stream",
     "text": [
      "+----------+------------+--------------------+-----+\n",
      "|      DATE|         REG|               MUNCP|count|\n",
      "+----------+------------+--------------------+-----+\n",
      "|2012/01/01|Montréal(06)|        Beaconsfield|    1|\n",
      "|2012/01/01|Montréal(06)| Dollard-Des Ormeaux|    2|\n",
      "|2012/01/01|Montréal(06)|            Montréal|   37|\n",
      "|2012/01/02|Montréal(06)|            Montréal|   21|\n",
      "|2012/01/02|Montréal(06)|            Kirkland|    2|\n",
      "|2012/01/02|Montréal(06)|       Pointe-Claire|    1|\n",
      "|2012/01/03|Montréal(06)|            Kirkland|    1|\n",
      "|2012/01/03|Montréal(06)|              Dorval|    2|\n",
      "|2012/01/03|Montréal(06)|          Mont-Royal|    2|\n",
      "|2012/01/03|Montréal(06)|         Baie-D'Urfé|    1|\n",
      "|2012/01/03|Montréal(06)|       Pointe-Claire|    2|\n",
      "|2012/01/03|Montréal(06)|      Côte-Saint-Luc|    2|\n",
      "|2012/01/03|Montréal(06)|        Montréal-Est|    1|\n",
      "|2012/01/03|Montréal(06)|            Montréal|   29|\n",
      "|2012/01/04|Montréal(06)| Dollard-Des Ormeaux|    2|\n",
      "|2012/01/04|Montréal(06)|       Pointe-Claire|    1|\n",
      "|2012/01/04|Montréal(06)|            Montréal|   39|\n",
      "|2012/01/04|Montréal(06)|           Westmount|    1|\n",
      "|2012/01/05|Montréal(06)|              Dorval|    1|\n",
      "|2012/01/05|Montréal(06)|           Hampstead|    1|\n",
      "|2012/01/05|Montréal(06)|            Kirkland|    1|\n",
      "|2012/01/05|Montréal(06)|            Montréal|   56|\n",
      "|2012/01/06|Montréal(06)|          Mont-Royal|    1|\n",
      "|2012/01/06|Montréal(06)|       Pointe-Claire|    2|\n",
      "|2012/01/06|Montréal(06)| Dollard-Des Ormeaux|    2|\n",
      "|2012/01/06|Montréal(06)|            Montréal|   35|\n",
      "|2012/01/07|Montréal(06)|       Pointe-Claire|    2|\n",
      "|2012/01/07|Montréal(06)|        Beaconsfield|    1|\n",
      "|2012/01/07|Montréal(06)|              Dorval|    1|\n",
      "|2012/01/07|Montréal(06)| Dollard-Des Ormeaux|    2|\n",
      "|2012/01/07|Montréal(06)|           Hampstead|    1|\n",
      "|2012/01/07|Montréal(06)|           Westmount|    1|\n",
      "|2012/01/07|Montréal(06)|      Côte-Saint-Luc|    1|\n",
      "|2012/01/07|Montréal(06)|            Montréal|   36|\n",
      "|2012/01/08|Montréal(06)|       Pointe-Claire|    1|\n",
      "|2012/01/08|Montréal(06)|Sainte-Anne-de-Be...|    1|\n",
      "|2012/01/08|Montréal(06)|            Montréal|   34|\n",
      "|2012/01/09|Montréal(06)|       Pointe-Claire|    1|\n",
      "|2012/01/09|Montréal(06)|            Montréal|   41|\n",
      "|2012/01/09|Montréal(06)|          Mont-Royal|    1|\n",
      "|2012/01/10|Montréal(06)|       Pointe-Claire|    2|\n",
      "|2012/01/10|Montréal(06)| Dollard-Des Ormeaux|    1|\n",
      "|2012/01/10|Montréal(06)|              Dorval|    1|\n",
      "|2012/01/10|Montréal(06)|            Montréal|   44|\n",
      "|2012/01/11|Montréal(06)| Dollard-Des Ormeaux|    1|\n",
      "|2012/01/11|Montréal(06)|        Beaconsfield|    2|\n",
      "|2012/01/11|Montréal(06)|            Montréal|   45|\n",
      "|2012/01/12|Montréal(06)|Sainte-Anne-de-Be...|    1|\n",
      "|2012/01/12|Montréal(06)|      Côte-Saint-Luc|    2|\n",
      "|2012/01/12|Montréal(06)|              Dorval|    3|\n",
      "+----------+------------+--------------------+-----+\n",
      "only showing top 50 rows\n",
      "\n"
     ]
    }
   ],
   "source": [
    "df.select('DATE', 'MUNCP', 'REG').groupby('DATE', 'REG', 'MUNCP').count().sort('DATE', accending=True).show(50)"
   ]
  },
  {
   "cell_type": "code",
   "execution_count": 26,
   "metadata": {},
   "outputs": [],
   "source": [
    "df = df.withColumn('DATE', F.from_unixtime(F.unix_timestamp('DATE', 'yyyy/MM/dd')))\n",
    "df = df.withColumn('DATE', df['DATE'].cast(DateType()))"
   ]
  },
  {
   "cell_type": "code",
   "execution_count": 27,
   "metadata": {},
   "outputs": [
    {
     "data": {
      "text/plain": [
       "[('ID', 'string'),\n",
       " ('DATE', 'date'),\n",
       " ('WEEK_DAY', 'string'),\n",
       " ('REG', 'string'),\n",
       " ('MUNCP', 'string'),\n",
       " ('STREET', 'string'),\n",
       " ('TYPE_ACCDN', 'int'),\n",
       " ('SURFACE', 'int'),\n",
       " ('LIGHT', 'int'),\n",
       " ('STR_ASPCT', 'int'),\n",
       " ('STR_CONFIG', 'int'),\n",
       " ('METEO', 'int'),\n",
       " ('GRAVITE', 'string'),\n",
       " ('NB_VEH_IMPLIQUES_ACCDN', 'int'),\n",
       " ('NB_VICTIMES_TOTAL', 'int'),\n",
       " ('NB_MORTS', 'int'),\n",
       " ('NB_BLESSES_GRAVES', 'int'),\n",
       " ('NB_BLESS_LEGERS', 'int'),\n",
       " ('NB_DECES_PIETON', 'int'),\n",
       " ('NB_BLESSES_PIETON', 'int'),\n",
       " ('NB_VICTIMES_PIETON', 'int'),\n",
       " ('NB_DECES_MOTO', 'int'),\n",
       " ('NB_BLESSES_MOTO', 'int'),\n",
       " ('NB_VICTIMES_MOTO', 'int'),\n",
       " ('NB_DECES_VELO', 'int'),\n",
       " ('NB_BLESSES_VELO', 'int'),\n",
       " ('NB_VICTIMES_VELO', 'int'),\n",
       " ('nb_automobile_camion_leger', 'int'),\n",
       " ('nb_camionLourd_tractRoutier', 'int'),\n",
       " ('nb_outil_equipement', 'int'),\n",
       " ('nb_tous_autobus_minibus', 'int'),\n",
       " ('nb_bicyclette', 'int'),\n",
       " ('nb_cyclomoteur', 'int'),\n",
       " ('nb_motocyclette', 'int'),\n",
       " ('nb_taxi', 'int'),\n",
       " ('nb_urgence', 'int'),\n",
       " ('nb_motoneige', 'int'),\n",
       " ('nb_VHR', 'int'),\n",
       " ('nb_autres_types', 'int'),\n",
       " ('nb_veh_non_precise', 'int')]"
      ]
     },
     "execution_count": 27,
     "metadata": {},
     "output_type": "execute_result"
    }
   ],
   "source": [
    "df.dtypes"
   ]
  },
  {
   "cell_type": "markdown",
   "metadata": {},
   "source": [
    "### Checking general tendencies"
   ]
  },
  {
   "cell_type": "markdown",
   "metadata": {},
   "source": [
    "Meteo for each day"
   ]
  },
  {
   "cell_type": "code",
   "execution_count": 28,
   "metadata": {
    "scrolled": false
   },
   "outputs": [
    {
     "name": "stdout",
     "output_type": "stream",
     "text": [
      "+----------+-----+-----+\n",
      "|      DATE|METEO|count|\n",
      "+----------+-----+-----+\n",
      "|2012-01-01|   14|    8|\n",
      "|2012-01-01|   17|    2|\n",
      "|2012-01-01|   99|    1|\n",
      "|2012-01-01|   11|   12|\n",
      "|2012-01-01|   13|    1|\n",
      "|2012-01-01|   12|   16|\n",
      "|2012-01-02|   11|   16|\n",
      "|2012-01-02|   14|    2|\n",
      "|2012-01-02|   12|    6|\n",
      "|2012-01-03|   17|    1|\n",
      "|2012-01-03|   12|    2|\n",
      "|2012-01-03|   11|   37|\n",
      "|2012-01-04|   17|   14|\n",
      "|2012-01-04|   11|   20|\n",
      "|2012-01-04|   12|    9|\n",
      "|2012-01-05|   12|   12|\n",
      "|2012-01-05|   11|   40|\n",
      "|2012-01-05|   17|    7|\n",
      "|2012-01-06|   11|   11|\n",
      "|2012-01-06|   12|   18|\n",
      "|2012-01-06|   17|   10|\n",
      "|2012-01-06|   13|    1|\n",
      "|2012-01-07|   14|    8|\n",
      "|2012-01-07|   11|   12|\n",
      "|2012-01-07|   17|    6|\n",
      "|2012-01-07|   12|   15|\n",
      "|2012-01-07|   13|    1|\n",
      "|2012-01-07|   19|    3|\n",
      "|2012-01-08|   17|    1|\n",
      "|2012-01-08|   99|    1|\n",
      "|2012-01-08|   12|    9|\n",
      "|2012-01-08|   11|   25|\n",
      "|2012-01-09|   99|    1|\n",
      "|2012-01-09|   17|    2|\n",
      "|2012-01-09|   11|   22|\n",
      "|2012-01-09|   12|   18|\n",
      "|2012-01-10|   19|    1|\n",
      "|2012-01-10|   17|    1|\n",
      "|2012-01-10|   14|    1|\n",
      "|2012-01-10|   99|    1|\n",
      "|2012-01-10|   11|   37|\n",
      "|2012-01-10|   12|    7|\n",
      "|2012-01-11|   17|    3|\n",
      "|2012-01-11|   12|   14|\n",
      "|2012-01-11|   11|   31|\n",
      "|2012-01-12|   12|    4|\n",
      "|2012-01-12|   11|    6|\n",
      "|2012-01-12|   99|    2|\n",
      "|2012-01-12|   19|    1|\n",
      "|2012-01-12|   18|   22|\n",
      "+----------+-----+-----+\n",
      "only showing top 50 rows\n",
      "\n"
     ]
    }
   ],
   "source": [
    "df.select('DATE', 'METEO').groupby('DATE', 'METEO').count().sort('DATE', accending=True).show(50)"
   ]
  },
  {
   "cell_type": "markdown",
   "metadata": {},
   "source": [
    "Meteo options selected for the collisions in one day"
   ]
  },
  {
   "cell_type": "code",
   "execution_count": 37,
   "metadata": {},
   "outputs": [
    {
     "name": "stdout",
     "output_type": "stream",
     "text": [
      "+-----+-----+\n",
      "|METEO|count|\n",
      "+-----+-----+\n",
      "|   12|    8|\n",
      "|   15|    4|\n",
      "|   11|   20|\n",
      "|   14|   24|\n",
      "+-----+-----+\n",
      "\n"
     ]
    }
   ],
   "source": [
    "df[df.DATE == '2012-06-12'].select('DATE', 'METEO').groupby('METEO').count().show()"
   ]
  },
  {
   "cell_type": "code",
   "execution_count": 30,
   "metadata": {},
   "outputs": [
    {
     "data": {
      "text/plain": [
       "128647"
      ]
     },
     "execution_count": 30,
     "metadata": {},
     "output_type": "execute_result"
    }
   ],
   "source": [
    "df.count()"
   ]
  },
  {
   "cell_type": "code",
   "execution_count": 31,
   "metadata": {},
   "outputs": [],
   "source": [
    "# df.write.csv(path='data/accidents_new.csv', header=\"true\")"
   ]
  },
  {
   "cell_type": "code",
   "execution_count": null,
   "metadata": {},
   "outputs": [],
   "source": []
  },
  {
   "cell_type": "code",
   "execution_count": 32,
   "metadata": {},
   "outputs": [],
   "source": [
    "# sc.stop()"
   ]
  }
 ],
 "metadata": {
  "kernelspec": {
   "display_name": "Python 3",
   "language": "python",
   "name": "python3"
  },
  "language_info": {
   "codemirror_mode": {
    "name": "ipython",
    "version": 3
   },
   "file_extension": ".py",
   "mimetype": "text/x-python",
   "name": "python",
   "nbconvert_exporter": "python",
   "pygments_lexer": "ipython3",
   "version": "3.7.3"
  },
  "widgets": {
   "application/vnd.jupyter.widget-state+json": {
    "state": {},
    "version_major": 2,
    "version_minor": 0
   }
  }
 },
 "nbformat": 4,
 "nbformat_minor": 2
}
